{
  "nbformat": 4,
  "nbformat_minor": 0,
  "metadata": {
    "colab": {
      "provenance": [],
      "gpuType": "T4",
      "authorship_tag": "ABX9TyNOOMwH1CsolCST7C2BjnG9"
    },
    "kernelspec": {
      "name": "python3",
      "display_name": "Python 3"
    },
    "language_info": {
      "name": "python"
    },
    "accelerator": "GPU"
  },
  "cells": [
    {
      "cell_type": "code",
      "execution_count": 1,
      "metadata": {
        "id": "V7UdYmUYGb7A"
      },
      "outputs": [],
      "source": [
        "import pandas as pd\n",
        "import os\n",
        "import sys\n",
        "import warnings\n",
        "warnings.filterwarnings(\"ignore\")"
      ]
    },
    {
      "cell_type": "code",
      "source": [
        "!pip3 install wbdata\n"
      ],
      "metadata": {
        "colab": {
          "base_uri": "https://localhost:8080/"
        },
        "id": "h6wYO032G9hm",
        "outputId": "3f3d8e1a-3214-416f-d6c1-064b8575b2ff"
      },
      "execution_count": 2,
      "outputs": [
        {
          "output_type": "stream",
          "name": "stdout",
          "text": [
            "Requirement already satisfied: wbdata in /usr/local/lib/python3.11/dist-packages (1.0.0)\n",
            "Requirement already satisfied: appdirs<2.0,>=1.4 in /usr/local/lib/python3.11/dist-packages (from wbdata) (1.4.4)\n",
            "Requirement already satisfied: backoff<3.0.0,>=2.2.1 in /usr/local/lib/python3.11/dist-packages (from wbdata) (2.2.1)\n",
            "Requirement already satisfied: cachetools<6.0.0,>=5.3.2 in /usr/local/lib/python3.11/dist-packages (from wbdata) (5.5.1)\n",
            "Requirement already satisfied: dateparser<2.0.0,>=1.2.0 in /usr/local/lib/python3.11/dist-packages (from wbdata) (1.2.1)\n",
            "Requirement already satisfied: decorator<6.0.0,>=5.1.1 in /usr/local/lib/python3.11/dist-packages (from wbdata) (5.2.1)\n",
            "Requirement already satisfied: requests<3.0,>=2.0 in /usr/local/lib/python3.11/dist-packages (from wbdata) (2.32.3)\n",
            "Requirement already satisfied: shelved-cache<0.4.0,>=0.3.1 in /usr/local/lib/python3.11/dist-packages (from wbdata) (0.3.1)\n",
            "Requirement already satisfied: tabulate<0.9.0,>=0.8.5 in /usr/local/lib/python3.11/dist-packages (from wbdata) (0.8.10)\n",
            "Requirement already satisfied: python-dateutil>=2.7.0 in /usr/local/lib/python3.11/dist-packages (from dateparser<2.0.0,>=1.2.0->wbdata) (2.8.2)\n",
            "Requirement already satisfied: pytz>=2024.2 in /usr/local/lib/python3.11/dist-packages (from dateparser<2.0.0,>=1.2.0->wbdata) (2024.2)\n",
            "Requirement already satisfied: regex!=2019.02.19,!=2021.8.27,>=2015.06.24 in /usr/local/lib/python3.11/dist-packages (from dateparser<2.0.0,>=1.2.0->wbdata) (2024.11.6)\n",
            "Requirement already satisfied: tzlocal>=0.2 in /usr/local/lib/python3.11/dist-packages (from dateparser<2.0.0,>=1.2.0->wbdata) (5.2)\n",
            "Requirement already satisfied: charset-normalizer<4,>=2 in /usr/local/lib/python3.11/dist-packages (from requests<3.0,>=2.0->wbdata) (3.4.1)\n",
            "Requirement already satisfied: idna<4,>=2.5 in /usr/local/lib/python3.11/dist-packages (from requests<3.0,>=2.0->wbdata) (3.10)\n",
            "Requirement already satisfied: urllib3<3,>=1.21.1 in /usr/local/lib/python3.11/dist-packages (from requests<3.0,>=2.0->wbdata) (2.3.0)\n",
            "Requirement already satisfied: certifi>=2017.4.17 in /usr/local/lib/python3.11/dist-packages (from requests<3.0,>=2.0->wbdata) (2024.12.14)\n",
            "Requirement already satisfied: six>=1.5 in /usr/local/lib/python3.11/dist-packages (from python-dateutil>=2.7.0->dateparser<2.0.0,>=1.2.0->wbdata) (1.17.0)\n"
          ]
        }
      ]
    },
    {
      "cell_type": "code",
      "source": [
        "import wbdata\n",
        "import datetime\n",
        "\n",
        "# Define the indicator for GDP growth (annual %)\n",
        "indicators = {'NY.GDP.MKTP.KD.ZG': 'GDP growth (annual %)'}\n",
        "\n",
        "# Set the date range\n",
        "start_date = datetime.datetime(1987, 1, 1)\n",
        "end_date = datetime.datetime(2022, 12, 31)\n",
        "\n",
        "# Retrieve GDP growth data for the world\n",
        "gdp_growth_data = wbdata.get_dataframe(indicators, country='WLD', date=(start_date, end_date), freq='Y')\n",
        "\n",
        "# Display the GDP growth data\n",
        "print(gdp_growth_data)\n",
        "\n",
        "# Save to CSV\n",
        "gdp_growth_data.to_csv('/content/world_GDP_growth_data.csv')"
      ],
      "metadata": {
        "colab": {
          "base_uri": "https://localhost:8080/"
        },
        "id": "A8-aRghBGn3A",
        "outputId": "32b8d91c-9aa1-4bb5-9326-3a3ca5439ea6"
      },
      "execution_count": 3,
      "outputs": [
        {
          "output_type": "stream",
          "name": "stdout",
          "text": [
            "      GDP growth (annual %)\n",
            "date                       \n",
            "2022               3.238021\n",
            "2021               6.350090\n",
            "2020              -2.878323\n",
            "2019               2.675966\n",
            "2018               3.282197\n",
            "2017               3.451446\n",
            "2016               2.813736\n",
            "2015               3.128787\n",
            "2014               3.131476\n",
            "2013               2.872839\n",
            "2012               2.691961\n",
            "2011               3.336286\n",
            "2010               4.517430\n",
            "2009              -1.342370\n",
            "2008               2.056153\n",
            "2007               4.373197\n",
            "2006               4.460593\n",
            "2005               4.020487\n",
            "2004               4.473970\n",
            "2003               3.093669\n",
            "2002               2.316450\n",
            "2001               2.033625\n",
            "2000               4.532918\n",
            "1999               3.589073\n",
            "1998               2.843122\n",
            "1997               3.953367\n",
            "1996               3.582286\n",
            "1995               3.097579\n",
            "1994               3.342330\n",
            "1993               1.840448\n",
            "1992               2.022340\n",
            "1991               1.210701\n",
            "1990               2.721270\n",
            "1989               3.724157\n",
            "1988               4.548927\n",
            "1987               3.753409\n"
          ]
        }
      ]
    },
    {
      "cell_type": "code",
      "source": [
        "indicators = {'SL.UEM.TOTL.ZS': 'Unemployment Rate (%)'}\n",
        "\n",
        "# Set the date range\n",
        "start_date = datetime.datetime(1987, 1, 1)\n",
        "end_date = datetime.datetime(2022, 12, 31)\n",
        "\n",
        "# Retrieve unemployment data for the world\n",
        "unemployment_data = wbdata.get_dataframe(indicators, country='WLD', date=(start_date, end_date), freq='Y')\n",
        "\n",
        "# Display the unemployment data\n",
        "print(unemployment_data)\n",
        "\n",
        "unemployment_data.to_csv('/content/world_unemployment_rates_data.csv')"
      ],
      "metadata": {
        "colab": {
          "base_uri": "https://localhost:8080/"
        },
        "id": "HBvLTwQ_G6rl",
        "outputId": "82ef6cea-38fe-4fcd-ced1-ba70f25a82f5"
      },
      "execution_count": 5,
      "outputs": [
        {
          "output_type": "stream",
          "name": "stdout",
          "text": [
            "      Unemployment Rate (%)\n",
            "date                       \n",
            "2022               5.260711\n",
            "2021               6.064446\n",
            "2020               6.608805\n",
            "2019               5.598931\n",
            "2018               5.768983\n",
            "2017               5.907231\n",
            "2016               5.978274\n",
            "2015               6.006559\n",
            "2014               5.965960\n",
            "2013               6.107219\n",
            "2012               6.159642\n",
            "2011               6.156886\n",
            "2010               6.286335\n",
            "2009               6.419615\n",
            "2008               5.832310\n",
            "2007               5.777538\n",
            "2006               5.976250\n",
            "2005               6.227128\n",
            "2004               6.337595\n",
            "2003               6.495495\n",
            "2002               6.428244\n",
            "2001               6.202246\n",
            "2000               6.123041\n",
            "1999               6.288615\n",
            "1998               6.170974\n",
            "1997               6.022391\n",
            "1996               5.992539\n",
            "1995               5.930044\n",
            "1994               5.800499\n",
            "1993               5.559694\n",
            "1992               5.290110\n",
            "1991               5.133780\n",
            "1990                    NaN\n",
            "1989                    NaN\n",
            "1988                    NaN\n",
            "1987                    NaN\n"
          ]
        }
      ]
    },
    {
      "cell_type": "code",
      "source": [
        "indicators={'FP.CPI.TOTL.ZG': 'Inflation'}\n",
        "\n",
        "inflation_rates_data=wbdata.get_dataframe(indicators, country='WLD', date = (\"1987-05-20\", \"2022-11-14\"), freq='Y', source=None, parse_dates=False, keep_levels=False, skip_cache=False)\n",
        "inflation_rates_data\n",
        "inflation_rates_data.to_csv('/content/world_inflation_drates_ata.csv')"
      ],
      "metadata": {
        "id": "-Cs5B3F_HT9f"
      },
      "execution_count": 6,
      "outputs": []
    },
    {
      "cell_type": "code",
      "source": [
        "!pip3 install statsmodels"
      ],
      "metadata": {
        "colab": {
          "base_uri": "https://localhost:8080/"
        },
        "id": "QFYFjFRKH9-X",
        "outputId": "389a8009-80ad-46f8-fefd-a838565496fc"
      },
      "execution_count": 7,
      "outputs": [
        {
          "output_type": "stream",
          "name": "stdout",
          "text": [
            "Requirement already satisfied: statsmodels in /usr/local/lib/python3.11/dist-packages (0.14.4)\n",
            "Requirement already satisfied: numpy<3,>=1.22.3 in /usr/local/lib/python3.11/dist-packages (from statsmodels) (1.26.4)\n",
            "Requirement already satisfied: scipy!=1.9.2,>=1.8 in /usr/local/lib/python3.11/dist-packages (from statsmodels) (1.13.1)\n",
            "Requirement already satisfied: pandas!=2.1.0,>=1.4 in /usr/local/lib/python3.11/dist-packages (from statsmodels) (2.2.2)\n",
            "Requirement already satisfied: patsy>=0.5.6 in /usr/local/lib/python3.11/dist-packages (from statsmodels) (1.0.1)\n",
            "Requirement already satisfied: packaging>=21.3 in /usr/local/lib/python3.11/dist-packages (from statsmodels) (24.2)\n",
            "Requirement already satisfied: python-dateutil>=2.8.2 in /usr/local/lib/python3.11/dist-packages (from pandas!=2.1.0,>=1.4->statsmodels) (2.8.2)\n",
            "Requirement already satisfied: pytz>=2020.1 in /usr/local/lib/python3.11/dist-packages (from pandas!=2.1.0,>=1.4->statsmodels) (2024.2)\n",
            "Requirement already satisfied: tzdata>=2022.7 in /usr/local/lib/python3.11/dist-packages (from pandas!=2.1.0,>=1.4->statsmodels) (2025.1)\n",
            "Requirement already satisfied: six>=1.5 in /usr/local/lib/python3.11/dist-packages (from python-dateutil>=2.8.2->pandas!=2.1.0,>=1.4->statsmodels) (1.17.0)\n"
          ]
        }
      ]
    },
    {
      "cell_type": "markdown",
      "source": [
        "# Daily inflation from annual average"
      ],
      "metadata": {
        "id": "w5cK_7LLJD1B"
      }
    },
    {
      "cell_type": "code",
      "source": [
        "import numpy as np\n",
        "\n",
        "def daily_inflation(start_date='1987-05-20', end_date='2022-11-14', annual_inflation_rates=None):\n",
        "    # Generate daily date range\n",
        "    dates = pd.date_range(start=start_date, end=end_date)\n",
        "    daily_df = pd.DataFrame({'Date': dates})\n",
        "\n",
        "    # Ensure the 'Year' column is an integer\n",
        "    annual_inflation_rates['Year'] = annual_inflation_rates['date'].astype(int)\n",
        "    annual_inflation_rates = annual_inflation_rates.rename(columns={'Inflation': 'Annual_Inflation_Rate'})\n",
        "\n",
        "    # Calculate daily inflation rate\n",
        "    inflation_data = []\n",
        "    for _, row in annual_inflation_rates.iterrows():\n",
        "        daily_rate = (1 + row['Annual_Inflation_Rate']) ** (1 / 365) - 1\n",
        "        inflation_data.append({'Year': row['Year'], 'Daily_Inflation_Rate': daily_rate})\n",
        "\n",
        "    inflation_df = pd.DataFrame(inflation_data)\n",
        "\n",
        "    # Map each date to its corresponding annual daily inflation rate\n",
        "    daily_df['Year'] = daily_df['Date'].dt.year\n",
        "    daily_df = daily_df.merge(inflation_df, on='Year', how='left')\n",
        "\n",
        "    # Calculate the cumulative inflation factor\n",
        "    daily_df['Cumulative_Inflation_Factor'] = (1 + daily_df['Daily_Inflation_Rate']).cumprod()\n",
        "\n",
        "    # Select relevant columns\n",
        "    daily_df = daily_df[['Date', 'Cumulative_Inflation_Factor','Daily_Inflation_Rate']]\n",
        "    return daily_df\n",
        "\n",
        "# Load annual inflation rates data from CSV\n",
        "annual_inflation_rates = pd.read_csv(\"/content/world_inflation_drates_ata.csv\")\n",
        "\n",
        "# Generate daily inflation factors\n",
        "daily_inflation_df = daily_inflation(annual_inflation_rates=annual_inflation_rates)\n",
        "daily_inflation_df.to_csv(\"/content/world_inflation_drates_ata.csv\")\n",
        "print(daily_inflation_df)"
      ],
      "metadata": {
        "colab": {
          "base_uri": "https://localhost:8080/"
        },
        "id": "AOU8dQyyHzCC",
        "outputId": "77c70df8-cd5c-4b52-a270-d726422433ec"
      },
      "execution_count": 10,
      "outputs": [
        {
          "output_type": "stream",
          "name": "stdout",
          "text": [
            "            Date  Cumulative_Inflation_Factor  Daily_Inflation_Rate\n",
            "0     1987-05-20                 1.005229e+00              0.005229\n",
            "1     1987-05-21                 1.010485e+00              0.005229\n",
            "2     1987-05-22                 1.015769e+00              0.005229\n",
            "3     1987-05-23                 1.021081e+00              0.005229\n",
            "4     1987-05-24                 1.026420e+00              0.005229\n",
            "...          ...                          ...                   ...\n",
            "12958 2022-11-10                 5.001909e+25              0.006017\n",
            "12959 2022-11-11                 5.032004e+25              0.006017\n",
            "12960 2022-11-12                 5.062280e+25              0.006017\n",
            "12961 2022-11-13                 5.092738e+25              0.006017\n",
            "12962 2022-11-14                 5.123380e+25              0.006017\n",
            "\n",
            "[12963 rows x 3 columns]\n"
          ]
        }
      ]
    },
    {
      "cell_type": "markdown",
      "source": [
        "# Daily GDP from annual"
      ],
      "metadata": {
        "id": "QClVrUp_JNH4"
      }
    },
    {
      "cell_type": "code",
      "source": [
        "def daily_inflation(start_date='1987-05-20', end_date='2022-11-14', annual_gdp_growth_rate=None):\n",
        "    # Generate daily date range\n",
        "    dates = pd.date_range(start=start_date, end=end_date)\n",
        "    daily_df = pd.DataFrame({'Date': dates})\n",
        "\n",
        "    # Ensure the 'Year' column is an integer\n",
        "    annual_gdp_growth_rate['Year'] = annual_gdp_growth_rate['date'].astype(int)\n",
        "    annual_gdp_growth_rate = annual_gdp_growth_rate.rename(columns={'GDP growth (annual %)': 'Annual_GDP_Growth_Rate'})\n",
        "\n",
        "    # Calculate daily inflation rate\n",
        "    gdp_growth_data = []\n",
        "    for _, row in annual_gdp_growth_rate.iterrows():\n",
        "        daily_rate = (1 + row['Annual_GDP_Growth_Rate']) ** (1 / 365) - 1\n",
        "        gdp_growth_data.append({'Year': row['Year'], 'Daily_GDP_Growth_Rate': daily_rate})\n",
        "\n",
        "    inflation_df = pd.DataFrame(gdp_growth_data)\n",
        "\n",
        "    # Map each date to its corresponding annual daily inflation rate\n",
        "    daily_df['Year'] = daily_df['Date'].dt.year\n",
        "    daily_df = daily_df.merge(inflation_df, on='Year', how='left')\n",
        "\n",
        "    # Calculate the cumulative inflation factor\n",
        "    daily_df['Cumulative_GDP_Growth_Factor'] = (1 + daily_df['Daily_GDP_Growth_Rate']).cumprod()\n",
        "\n",
        "    # Select relevant columns\n",
        "    daily_df = daily_df[['Date', 'Cumulative_GDP_Growth_Factor','Daily_GDP_Growth_Rate']]\n",
        "    return daily_df\n",
        "\n",
        "# Load annual inflation rates data from CSV\n",
        "annual_gdp_growth_rate = pd.read_csv(\"/content/world_GDP_growth_data.csv\")\n",
        "\n",
        "# Generate daily inflation factors\n",
        "daily_gdp_df = daily_inflation(annual_gdp_growth_rate=annual_gdp_growth_rate)\n",
        "daily_gdp_df.to_csv(\"/content/world_daily_GDP_growth_data.csv\")\n",
        "print(daily_inflation_df)"
      ],
      "metadata": {
        "colab": {
          "base_uri": "https://localhost:8080/"
        },
        "id": "AEFMM0lyI32l",
        "outputId": "39ca9a90-3eee-4a42-ea71-7e2edc5b921c"
      },
      "execution_count": 11,
      "outputs": [
        {
          "output_type": "stream",
          "name": "stdout",
          "text": [
            "            Date  Cumulative_Inflation_Factor  Daily_Inflation_Rate\n",
            "0     1987-05-20                 1.005229e+00              0.005229\n",
            "1     1987-05-21                 1.010485e+00              0.005229\n",
            "2     1987-05-22                 1.015769e+00              0.005229\n",
            "3     1987-05-23                 1.021081e+00              0.005229\n",
            "4     1987-05-24                 1.026420e+00              0.005229\n",
            "...          ...                          ...                   ...\n",
            "12958 2022-11-10                 5.001909e+25              0.006017\n",
            "12959 2022-11-11                 5.032004e+25              0.006017\n",
            "12960 2022-11-12                 5.062280e+25              0.006017\n",
            "12961 2022-11-13                 5.092738e+25              0.006017\n",
            "12962 2022-11-14                 5.123380e+25              0.006017\n",
            "\n",
            "[12963 rows x 3 columns]\n"
          ]
        }
      ]
    },
    {
      "cell_type": "markdown",
      "source": [
        "# Daily unemployment rate from annual"
      ],
      "metadata": {
        "id": "ye1cMAByJhAs"
      }
    },
    {
      "cell_type": "code",
      "source": [
        "def daily_unemployment(start_date='1987-05-20', end_date='2022-11-14', annual_unemployment_rate=None, lag_days=30, rolling_window=90):\n",
        "\n",
        "    # Generate a daily date range\n",
        "    dates = pd.date_range(start=start_date, end=end_date)\n",
        "    daily_df = pd.DataFrame({'Date': dates})\n",
        "\n",
        "    # Ensure the 'Year' column is an integer and rename columns\n",
        "    annual_unemployment_rate = annual_unemployment_rate.rename(columns={'date': 'Year', 'Unemployment Rate (%)': 'Annual_Unemployment_Rate'})\n",
        "    annual_unemployment_rate['Year'] = pd.to_datetime(annual_unemployment_rate['Year'].astype(str) + '-01-01')\n",
        "\n",
        "    # Expand to a daily frequency and use interpolation\n",
        "    unemployment_series = annual_unemployment_rate.set_index('Year').resample('D').interpolate(method='linear')\n",
        "    unemployment_series = unemployment_series.rename(columns={'Annual_Unemployment_Rate': 'Daily_Unemployment_Rate'})\n",
        "\n",
        "    # Merge with the daily date range to match the specified date range\n",
        "    daily_df = daily_df.merge(unemployment_series, left_on='Date', right_index=True, how='left')\n",
        "\n",
        "    # Calculate lagged and rolling unemployment features\n",
        "    daily_df['Lagged_Unemployment_Rate'] = daily_df['Daily_Unemployment_Rate'].shift(lag_days)\n",
        "    daily_df['Rolling_Unemployment_Rate'] = daily_df['Daily_Unemployment_Rate'].rolling(window=rolling_window, min_periods=1).mean()\n",
        "\n",
        "    # Select relevant columns\n",
        "    daily_df = daily_df[['Date', 'Daily_Unemployment_Rate', 'Lagged_Unemployment_Rate', 'Rolling_Unemployment_Rate']]\n",
        "    return daily_df\n",
        "\n",
        "# Load annual unemployment data from CSV\n",
        "annual_unemployment_rate = pd.read_csv(\"/content/world_unemployment_rates_data.csv\")\n",
        "\n",
        "\n",
        "# Generate daily unemployment rates with lag and rolling features\n",
        "daily_unemployment_df = daily_unemployment(annual_unemployment_rate=annual_unemployment_rate)\n",
        "daily_unemployment_df.to_csv(\"/content/world_daily_unemployment_rate_data.csv\", index=False)\n",
        "print(daily_unemployment_df)"
      ],
      "metadata": {
        "colab": {
          "base_uri": "https://localhost:8080/"
        },
        "id": "O8oD2ajdJZ6B",
        "outputId": "7366877b-244d-49ca-b68c-3d4380f21914"
      },
      "execution_count": 12,
      "outputs": [
        {
          "output_type": "stream",
          "name": "stdout",
          "text": [
            "            Date  Daily_Unemployment_Rate  Lagged_Unemployment_Rate  \\\n",
            "0     1987-05-20                      NaN                       NaN   \n",
            "1     1987-05-21                      NaN                       NaN   \n",
            "2     1987-05-22                      NaN                       NaN   \n",
            "3     1987-05-23                      NaN                       NaN   \n",
            "4     1987-05-24                      NaN                       NaN   \n",
            "...          ...                      ...                       ...   \n",
            "12958 2022-11-10                      NaN                       NaN   \n",
            "12959 2022-11-11                      NaN                       NaN   \n",
            "12960 2022-11-12                      NaN                       NaN   \n",
            "12961 2022-11-13                      NaN                       NaN   \n",
            "12962 2022-11-14                      NaN                       NaN   \n",
            "\n",
            "       Rolling_Unemployment_Rate  \n",
            "0                            NaN  \n",
            "1                            NaN  \n",
            "2                            NaN  \n",
            "3                            NaN  \n",
            "4                            NaN  \n",
            "...                          ...  \n",
            "12958                        NaN  \n",
            "12959                        NaN  \n",
            "12960                        NaN  \n",
            "12961                        NaN  \n",
            "12962                        NaN  \n",
            "\n",
            "[12963 rows x 4 columns]\n"
          ]
        }
      ]
    },
    {
      "cell_type": "code",
      "source": [],
      "metadata": {
        "id": "X100utVsJ0mT"
      },
      "execution_count": null,
      "outputs": []
    }
  ]
}